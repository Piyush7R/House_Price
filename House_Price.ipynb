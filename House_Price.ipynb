{
 "cells": [
  {
   "cell_type": "markdown",
   "id": "abcaa938-a29b-4b67-9ead-3e696ffe6a31",
   "metadata": {},
   "source": [
    "## Import the Necessary Libraries :"
   ]
  },
  {
   "cell_type": "code",
   "execution_count": 2,
   "id": "ff7007b9-dd16-4cc4-bfcd-db7ac6998f60",
   "metadata": {},
   "outputs": [],
   "source": [
    "import pandas as pd\n",
    "import numpy as np\n",
    "from sklearn.linear_model import LinearRegression\n",
    "from sklearn.linear_model import LogisticRegression\n",
    "from sklearn.neighbors import KNeighborsRegressor\n",
    "from sklearn.tree import DecisionTreeRegressor\n",
    "from sklearn.ensemble import RandomForestRegressor\n",
    "from sklearn.ensemble import GradientBoostingRegressor, AdaBoostRegressor\n",
    "from xgboost import XGBRegressor\n",
    "from sklearn.model_selection import train_test_split\n",
    "from sklearn.preprocessing import StandardScaler\n",
    "from sklearn.metrics import accuracy_score, confusion_matrix, classification_report\n",
    "from sklearn.metrics import r2_score, mean_squared_error\n",
    "import matplotlib.pyplot as plt"
   ]
  },
  {
   "cell_type": "code",
   "execution_count": 3,
   "id": "ceae5a90-9bfe-451b-9162-a6c24b352e72",
   "metadata": {},
   "outputs": [
    {
     "data": {
      "text/html": [
       "<div>\n",
       "<style scoped>\n",
       "    .dataframe tbody tr th:only-of-type {\n",
       "        vertical-align: middle;\n",
       "    }\n",
       "\n",
       "    .dataframe tbody tr th {\n",
       "        vertical-align: top;\n",
       "    }\n",
       "\n",
       "    .dataframe thead th {\n",
       "        text-align: right;\n",
       "    }\n",
       "</style>\n",
       "<table border=\"1\" class=\"dataframe\">\n",
       "  <thead>\n",
       "    <tr style=\"text-align: right;\">\n",
       "      <th></th>\n",
       "      <th>Square_Footage</th>\n",
       "      <th>Num_Bedrooms</th>\n",
       "      <th>Num_Bathrooms</th>\n",
       "      <th>Year_Built</th>\n",
       "      <th>Lot_Size</th>\n",
       "      <th>Garage_Size</th>\n",
       "      <th>Neighborhood_Quality</th>\n",
       "      <th>House_Price</th>\n",
       "    </tr>\n",
       "  </thead>\n",
       "  <tbody>\n",
       "    <tr>\n",
       "      <th>0</th>\n",
       "      <td>1360</td>\n",
       "      <td>2</td>\n",
       "      <td>1</td>\n",
       "      <td>1981</td>\n",
       "      <td>0.599637</td>\n",
       "      <td>0</td>\n",
       "      <td>5</td>\n",
       "      <td>2.623829e+05</td>\n",
       "    </tr>\n",
       "    <tr>\n",
       "      <th>1</th>\n",
       "      <td>4272</td>\n",
       "      <td>3</td>\n",
       "      <td>3</td>\n",
       "      <td>2016</td>\n",
       "      <td>4.753014</td>\n",
       "      <td>1</td>\n",
       "      <td>6</td>\n",
       "      <td>9.852609e+05</td>\n",
       "    </tr>\n",
       "    <tr>\n",
       "      <th>2</th>\n",
       "      <td>3592</td>\n",
       "      <td>1</td>\n",
       "      <td>2</td>\n",
       "      <td>2016</td>\n",
       "      <td>3.634823</td>\n",
       "      <td>0</td>\n",
       "      <td>9</td>\n",
       "      <td>7.779774e+05</td>\n",
       "    </tr>\n",
       "    <tr>\n",
       "      <th>3</th>\n",
       "      <td>966</td>\n",
       "      <td>1</td>\n",
       "      <td>2</td>\n",
       "      <td>1977</td>\n",
       "      <td>2.730667</td>\n",
       "      <td>1</td>\n",
       "      <td>8</td>\n",
       "      <td>2.296989e+05</td>\n",
       "    </tr>\n",
       "    <tr>\n",
       "      <th>4</th>\n",
       "      <td>4926</td>\n",
       "      <td>2</td>\n",
       "      <td>1</td>\n",
       "      <td>1993</td>\n",
       "      <td>4.699073</td>\n",
       "      <td>0</td>\n",
       "      <td>8</td>\n",
       "      <td>1.041741e+06</td>\n",
       "    </tr>\n",
       "    <tr>\n",
       "      <th>...</th>\n",
       "      <td>...</td>\n",
       "      <td>...</td>\n",
       "      <td>...</td>\n",
       "      <td>...</td>\n",
       "      <td>...</td>\n",
       "      <td>...</td>\n",
       "      <td>...</td>\n",
       "      <td>...</td>\n",
       "    </tr>\n",
       "    <tr>\n",
       "      <th>995</th>\n",
       "      <td>3261</td>\n",
       "      <td>4</td>\n",
       "      <td>1</td>\n",
       "      <td>1978</td>\n",
       "      <td>2.165110</td>\n",
       "      <td>2</td>\n",
       "      <td>10</td>\n",
       "      <td>7.014940e+05</td>\n",
       "    </tr>\n",
       "    <tr>\n",
       "      <th>996</th>\n",
       "      <td>3179</td>\n",
       "      <td>1</td>\n",
       "      <td>2</td>\n",
       "      <td>1999</td>\n",
       "      <td>2.977123</td>\n",
       "      <td>1</td>\n",
       "      <td>10</td>\n",
       "      <td>6.837232e+05</td>\n",
       "    </tr>\n",
       "    <tr>\n",
       "      <th>997</th>\n",
       "      <td>2606</td>\n",
       "      <td>4</td>\n",
       "      <td>2</td>\n",
       "      <td>1962</td>\n",
       "      <td>4.055067</td>\n",
       "      <td>0</td>\n",
       "      <td>2</td>\n",
       "      <td>5.720240e+05</td>\n",
       "    </tr>\n",
       "    <tr>\n",
       "      <th>998</th>\n",
       "      <td>4723</td>\n",
       "      <td>5</td>\n",
       "      <td>2</td>\n",
       "      <td>1950</td>\n",
       "      <td>1.930921</td>\n",
       "      <td>0</td>\n",
       "      <td>7</td>\n",
       "      <td>9.648653e+05</td>\n",
       "    </tr>\n",
       "    <tr>\n",
       "      <th>999</th>\n",
       "      <td>3268</td>\n",
       "      <td>4</td>\n",
       "      <td>2</td>\n",
       "      <td>1983</td>\n",
       "      <td>3.108790</td>\n",
       "      <td>2</td>\n",
       "      <td>2</td>\n",
       "      <td>7.425993e+05</td>\n",
       "    </tr>\n",
       "  </tbody>\n",
       "</table>\n",
       "<p>1000 rows × 8 columns</p>\n",
       "</div>"
      ],
      "text/plain": [
       "     Square_Footage  Num_Bedrooms  Num_Bathrooms  Year_Built  Lot_Size  \\\n",
       "0              1360             2              1        1981  0.599637   \n",
       "1              4272             3              3        2016  4.753014   \n",
       "2              3592             1              2        2016  3.634823   \n",
       "3               966             1              2        1977  2.730667   \n",
       "4              4926             2              1        1993  4.699073   \n",
       "..              ...           ...            ...         ...       ...   \n",
       "995            3261             4              1        1978  2.165110   \n",
       "996            3179             1              2        1999  2.977123   \n",
       "997            2606             4              2        1962  4.055067   \n",
       "998            4723             5              2        1950  1.930921   \n",
       "999            3268             4              2        1983  3.108790   \n",
       "\n",
       "     Garage_Size  Neighborhood_Quality   House_Price  \n",
       "0              0                     5  2.623829e+05  \n",
       "1              1                     6  9.852609e+05  \n",
       "2              0                     9  7.779774e+05  \n",
       "3              1                     8  2.296989e+05  \n",
       "4              0                     8  1.041741e+06  \n",
       "..           ...                   ...           ...  \n",
       "995            2                    10  7.014940e+05  \n",
       "996            1                    10  6.837232e+05  \n",
       "997            0                     2  5.720240e+05  \n",
       "998            0                     7  9.648653e+05  \n",
       "999            2                     2  7.425993e+05  \n",
       "\n",
       "[1000 rows x 8 columns]"
      ]
     },
     "execution_count": 3,
     "metadata": {},
     "output_type": "execute_result"
    }
   ],
   "source": [
    "# Load the dataset\n",
    "data = pd.read_csv('house_price_regression_dataset.csv')\n",
    "data"
   ]
  },
  {
   "cell_type": "code",
   "execution_count": 4,
   "id": "59099509-68fa-4cfc-94e5-eb2d9c7df47a",
   "metadata": {},
   "outputs": [
    {
     "data": {
      "text/plain": [
       "(1000, 8)"
      ]
     },
     "execution_count": 4,
     "metadata": {},
     "output_type": "execute_result"
    }
   ],
   "source": [
    "data.shape"
   ]
  },
  {
   "cell_type": "code",
   "execution_count": 5,
   "id": "603ddf6c-fe65-4836-9f1f-b9d319335260",
   "metadata": {},
   "outputs": [
    {
     "data": {
      "text/plain": [
       "Index(['Square_Footage', 'Num_Bedrooms', 'Num_Bathrooms', 'Year_Built',\n",
       "       'Lot_Size', 'Garage_Size', 'Neighborhood_Quality', 'House_Price'],\n",
       "      dtype='object')"
      ]
     },
     "execution_count": 5,
     "metadata": {},
     "output_type": "execute_result"
    }
   ],
   "source": [
    "data.columns"
   ]
  },
  {
   "cell_type": "code",
   "execution_count": 10,
   "id": "7510f909-8513-4fb0-bad2-3df0efc7099f",
   "metadata": {},
   "outputs": [
    {
     "name": "stdout",
     "output_type": "stream",
     "text": [
      "<class 'pandas.core.frame.DataFrame'>\n",
      "RangeIndex: 1000 entries, 0 to 999\n",
      "Data columns (total 8 columns):\n",
      " #   Column                Non-Null Count  Dtype  \n",
      "---  ------                --------------  -----  \n",
      " 0   Square_Footage        1000 non-null   int64  \n",
      " 1   Num_Bedrooms          1000 non-null   int64  \n",
      " 2   Num_Bathrooms         1000 non-null   int64  \n",
      " 3   Year_Built            1000 non-null   int64  \n",
      " 4   Lot_Size              1000 non-null   float64\n",
      " 5   Garage_Size           1000 non-null   int64  \n",
      " 6   Neighborhood_Quality  1000 non-null   int64  \n",
      " 7   House_Price           1000 non-null   float64\n",
      "dtypes: float64(2), int64(6)\n",
      "memory usage: 62.6 KB\n"
     ]
    }
   ],
   "source": [
    "data.info()"
   ]
  },
  {
   "cell_type": "code",
   "execution_count": 12,
   "id": "d3f58bee-edd9-4e56-8d9e-160ad1d12771",
   "metadata": {},
   "outputs": [
    {
     "data": {
      "text/plain": [
       "Square_Footage          0\n",
       "Num_Bedrooms            0\n",
       "Num_Bathrooms           0\n",
       "Year_Built              0\n",
       "Lot_Size                0\n",
       "Garage_Size             0\n",
       "Neighborhood_Quality    0\n",
       "House_Price             0\n",
       "dtype: int64"
      ]
     },
     "execution_count": 12,
     "metadata": {},
     "output_type": "execute_result"
    }
   ],
   "source": [
    "data.isnull().sum()"
   ]
  },
  {
   "cell_type": "code",
   "execution_count": 14,
   "id": "40af427c-3b0e-4aa3-983a-93d4a94a47ff",
   "metadata": {},
   "outputs": [],
   "source": [
    "d = ['Year_Built']\n",
    "result = data.pop('House_Price')\n",
    "data = data.drop(columns=d)"
   ]
  },
  {
   "cell_type": "code",
   "execution_count": 16,
   "id": "7774bcee-45a1-418a-bddc-71bb525eeff3",
   "metadata": {},
   "outputs": [],
   "source": [
    "# Split the dataset into training and testing data\n",
    "training_data, testing_data, training_result, testing_result = train_test_split(data, result, test_size=0.15, random_state=100)"
   ]
  },
  {
   "cell_type": "code",
   "execution_count": 18,
   "id": "8ea52dc4-d549-49ef-9374-3bfdb7a5f6fc",
   "metadata": {},
   "outputs": [],
   "source": [
    "# Fit on the training data and transform both training and testing data\n",
    "scaler = StandardScaler()\n",
    "training_data = scaler.fit_transform(training_data)\n",
    "testing_data = scaler.transform(testing_data)"
   ]
  },
  {
   "cell_type": "code",
   "execution_count": 20,
   "id": "e2c0d176-c227-434d-af01-8e21333e3997",
   "metadata": {},
   "outputs": [
    {
     "data": {
      "text/plain": [
       "array([[ 1.23455407,  1.42663321,  0.02591401,  0.64185854,  1.20353069,\n",
       "        -1.61029363],\n",
       "       [ 0.43716215,  0.72528085,  0.02591401, -0.64785669, -1.26153217,\n",
       "        -1.26438775],\n",
       "       [ 0.29813791, -1.37877623,  0.02591401,  0.13835311, -0.02900074,\n",
       "         1.50285933],\n",
       "       ...,\n",
       "       [ 0.73678337, -0.67742387, -1.1978032 , -0.90017493, -1.26153217,\n",
       "         0.11923579],\n",
       "       [-0.99143179,  0.02392849,  1.24963122,  1.6462475 , -0.02900074,\n",
       "        -0.91848186],\n",
       "       [-0.84361866,  1.42663321,  0.02591401, -0.41787336, -1.26153217,\n",
       "        -1.61029363]])"
      ]
     },
     "execution_count": 20,
     "metadata": {},
     "output_type": "execute_result"
    }
   ],
   "source": [
    "training_data"
   ]
  },
  {
   "cell_type": "code",
   "execution_count": 22,
   "id": "18b0f2ec-5ed9-4860-9ad8-7f51e08a4c8e",
   "metadata": {},
   "outputs": [
    {
     "data": {
      "text/plain": [
       "array([[-0.84921159, -1.37877623,  1.24963122, -0.46879222, -1.26153217,\n",
       "        -1.26438775],\n",
       "       [ 0.83905407, -0.67742387,  1.24963122, -1.19772051,  1.20353069,\n",
       "        -0.22667009],\n",
       "       [ 1.72753084,  0.72528085,  1.24963122, -1.50866731, -0.02900074,\n",
       "         0.11923579],\n",
       "       [-0.13012068,  0.02392849, -1.1978032 ,  1.40270802, -1.26153217,\n",
       "        -0.22667009],\n",
       "       [-1.66418128, -0.67742387,  1.24963122,  0.22148269, -1.26153217,\n",
       "         0.81104756],\n",
       "       [ 0.79590862, -0.67742387,  0.02591401,  0.92340608,  1.20353069,\n",
       "        -0.57257598],\n",
       "       [ 1.46066822, -0.67742387,  1.24963122, -1.3729132 , -1.26153217,\n",
       "        -0.91848186],\n",
       "       [-1.63861361,  0.72528085, -1.1978032 , -0.30191962,  1.20353069,\n",
       "        -1.26438775],\n",
       "       [ 1.49502478,  0.72528085,  1.24963122, -0.60108603, -0.02900074,\n",
       "        -1.61029363],\n",
       "       [-0.64387118, -0.67742387,  0.02591401, -0.50615263, -0.02900074,\n",
       "         0.81104756],\n",
       "       [ 1.71714397, -1.37877623, -1.1978032 , -0.68521362,  1.20353069,\n",
       "         0.11923579],\n",
       "       [-1.6545934 ,  1.42663321,  0.02591401,  0.47702277, -1.26153217,\n",
       "         1.15695345],\n",
       "       [ 0.55381468,  1.42663321, -1.1978032 ,  0.54177431, -0.02900074,\n",
       "        -0.22667009],\n",
       "       [-0.52721866,  1.42663321,  0.02591401, -0.44516577, -1.26153217,\n",
       "        -0.57257598],\n",
       "       [ 1.48943185,  0.72528085,  1.24963122,  0.00900632, -1.26153217,\n",
       "         1.50285933],\n",
       "       [ 0.19187225,  1.42663321,  0.02591401,  0.66566726, -1.26153217,\n",
       "        -0.22667009],\n",
       "       [-0.74853886, -1.37877623, -1.1978032 ,  0.16994369,  1.20353069,\n",
       "         1.50285933],\n",
       "       [-0.4369328 , -1.37877623,  0.02591401, -0.36721221, -1.26153217,\n",
       "         0.11923579],\n",
       "       [ 0.2829571 ,  0.02392849,  0.02591401, -1.10953093, -1.26153217,\n",
       "         0.11923579],\n",
       "       [-0.31948128,  1.42663321,  0.02591401, -1.43905572, -0.02900074,\n",
       "        -1.61029363],\n",
       "       [ 1.67959145, -0.67742387,  1.24963122, -0.73715706, -0.02900074,\n",
       "         1.15695345],\n",
       "       [-1.76405502,  0.72528085,  0.02591401, -1.62424345, -1.26153217,\n",
       "         0.46514168],\n",
       "       [ 0.86542074,  0.72528085, -1.1978032 , -0.66698875,  1.20353069,\n",
       "        -1.61029363],\n",
       "       [-0.66144896,  0.72528085,  0.02591401,  0.8064767 , -0.02900074,\n",
       "         0.46514168],\n",
       "       [ 0.60255306, -1.37877623, -1.1978032 , -0.99049618, -1.26153217,\n",
       "        -1.61029363],\n",
       "       [ 0.76714498,  0.02392849,  0.02591401, -0.78008705,  1.20353069,\n",
       "        -1.61029363],\n",
       "       [ 0.44355407,  0.72528085, -1.1978032 , -0.89131059,  1.20353069,\n",
       "        -0.91848186],\n",
       "       [-1.81519037,  0.02392849, -1.1978032 , -0.20850272, -1.26153217,\n",
       "         1.50285933],\n",
       "       [ 0.6632763 ,  0.02392849,  0.02591401, -1.01402155,  1.20353069,\n",
       "        -0.91848186],\n",
       "       [ 0.52664902,  0.72528085,  1.24963122, -1.64992304,  1.20353069,\n",
       "        -0.91848186],\n",
       "       [ 0.91495811,  0.72528085,  0.02591401, -0.06428443,  1.20353069,\n",
       "        -0.57257598],\n",
       "       [-0.25556209,  0.72528085, -1.1978032 , -0.33221189, -1.26153217,\n",
       "         0.46514168],\n",
       "       [ 1.13228337, -1.37877623, -1.1978032 , -0.17142711, -0.02900074,\n",
       "         1.15695345],\n",
       "       [-1.05934593, -1.37877623, -1.1978032 , -0.70949061, -0.02900074,\n",
       "         0.46514168],\n",
       "       [-0.47208835,  1.42663321,  0.02591401,  0.7097144 , -1.26153217,\n",
       "         1.15695345],\n",
       "       [-0.39618431,  0.02392849, -1.1978032 , -1.10077768, -0.02900074,\n",
       "        -0.57257598],\n",
       "       [-1.83516512,  1.42663321,  1.24963122, -1.04757001, -0.02900074,\n",
       "        -1.61029363],\n",
       "       [ 0.45074498,  1.42663321,  1.24963122, -0.91129847, -0.02900074,\n",
       "        -1.26438775],\n",
       "       [ 0.49948337,  0.02392849,  0.02591401,  1.17450696,  1.20353069,\n",
       "         0.46514168],\n",
       "       [ 0.54902074, -1.37877623, -1.1978032 , -1.27766597,  1.20353069,\n",
       "         1.15695345],\n",
       "       [ 1.57891872,  0.02392849,  1.24963122,  1.40838795, -0.02900074,\n",
       "         1.50285933],\n",
       "       [-0.45770653,  1.42663321,  1.24963122,  1.00859102,  1.20353069,\n",
       "        -0.22667009],\n",
       "       [ 0.44994599, -0.67742387,  1.24963122,  0.60637517, -0.02900074,\n",
       "         1.15695345],\n",
       "       [ 1.50221569, -1.37877623, -1.1978032 , -0.82399843, -1.26153217,\n",
       "        -0.57257598],\n",
       "       [-1.7896227 , -1.37877623,  1.24963122, -1.31843809, -1.26153217,\n",
       "        -1.61029363],\n",
       "       [ 1.3432167 ,  0.02392849,  0.02591401,  1.53649674, -0.02900074,\n",
       "         0.46514168],\n",
       "       [-0.20602472,  1.42663321,  1.24963122, -1.13746722,  1.20353069,\n",
       "         0.46514168],\n",
       "       [ 1.05558034, -1.37877623,  0.02591401,  1.0938183 , -0.02900074,\n",
       "        -0.57257598],\n",
       "       [ 1.37038236,  1.42663321,  1.24963122,  1.36017937,  1.20353069,\n",
       "        -1.26438775],\n",
       "       [ 1.60288842, -0.67742387, -1.1978032 , -0.82431278, -0.02900074,\n",
       "         0.46514168],\n",
       "       [ 0.16390761,  0.72528085,  1.24963122, -0.6994154 , -0.02900074,\n",
       "        -1.61029363],\n",
       "       [ 0.27097225, -0.67742387, -1.1978032 , -1.27371109,  1.20353069,\n",
       "        -0.22667009],\n",
       "       [ 0.99086215, -1.37877623,  1.24963122,  0.31113264, -0.02900074,\n",
       "         0.46514168],\n",
       "       [ 0.76315003,  1.42663321,  1.24963122,  1.64298664,  1.20353069,\n",
       "         0.81104756],\n",
       "       [ 0.74157731,  0.02392849,  0.02591401, -1.68451741, -1.26153217,\n",
       "        -1.61029363],\n",
       "       [-0.7533328 ,  1.42663321, -1.1978032 , -1.14075942, -0.02900074,\n",
       "        -0.22667009],\n",
       "       [ 1.20339347,  1.42663321,  1.24963122, -0.85356925,  1.20353069,\n",
       "        -1.26438775],\n",
       "       [-1.41170047,  0.72528085,  0.02591401,  1.33587164, -0.02900074,\n",
       "        -0.22667009],\n",
       "       [-0.31069239,  0.72528085, -1.1978032 ,  0.86199611,  1.20353069,\n",
       "         0.81104756],\n",
       "       [-1.07612472, -1.37877623,  1.24963122,  0.62470576, -1.26153217,\n",
       "        -0.22667009],\n",
       "       [-0.25955704,  0.02392849, -1.1978032 , -1.61391685, -1.26153217,\n",
       "        -1.61029363],\n",
       "       [ 0.3780369 ,  1.42663321,  1.24963122,  0.94668029, -1.26153217,\n",
       "         0.81104756],\n",
       "       [-0.16048229, -1.37877623,  0.02591401, -0.0859195 , -1.26153217,\n",
       "         0.81104756],\n",
       "       [-1.69134694,  1.42663321, -1.1978032 ,  0.83962711,  1.20353069,\n",
       "        -1.26438775],\n",
       "       [ 0.3780369 ,  0.72528085,  0.02591401, -0.99736375,  1.20353069,\n",
       "         0.11923579],\n",
       "       [-0.54399744,  0.02392849, -1.1978032 ,  0.68520869, -0.02900074,\n",
       "        -1.26438775],\n",
       "       [ 1.73232478,  1.42663321,  0.02591401,  0.70294821,  1.20353069,\n",
       "         1.50285933],\n",
       "       [-1.68096007,  1.42663321,  1.24963122, -1.75128351, -0.02900074,\n",
       "        -0.22667009],\n",
       "       [-0.38260148,  0.72528085,  1.24963122,  1.39669596, -1.26153217,\n",
       "        -1.61029363],\n",
       "       [ 1.74590761, -0.67742387, -1.1978032 , -1.62716803,  1.20353069,\n",
       "        -1.61029363],\n",
       "       [-1.20556108, -0.67742387,  1.24963122, -1.2705412 ,  1.20353069,\n",
       "        -1.61029363],\n",
       "       [ 1.4934268 , -0.67742387, -1.1978032 ,  1.52388619, -1.26153217,\n",
       "         0.46514168],\n",
       "       [ 0.85503387, -1.37877623, -1.1978032 ,  0.63849075, -1.26153217,\n",
       "        -0.22667009],\n",
       "       [ 1.6995662 ,  0.02392849, -1.1978032 ,  1.51987878,  1.20353069,\n",
       "         0.46514168],\n",
       "       [-0.26994391, -0.67742387,  0.02591401, -1.39782865, -0.02900074,\n",
       "         0.46514168],\n",
       "       [-0.21161764,  1.42663321, -1.1978032 , -1.04976232, -1.26153217,\n",
       "         0.81104756],\n",
       "       [-0.93230653, -0.67742387,  0.02591401, -0.3976109 , -0.02900074,\n",
       "         1.15695345],\n",
       "       [-1.05614997,  1.42663321, -1.1978032 , -1.19564361, -0.02900074,\n",
       "         0.11923579],\n",
       "       [-0.66784088,  0.72528085,  0.02591401,  1.24536428,  1.20353069,\n",
       "         0.81104756],\n",
       "       [ 0.81428539,  0.02392849,  1.24963122,  0.38900992, -0.02900074,\n",
       "         1.50285933],\n",
       "       [-0.20043179,  0.72528085,  1.24963122,  0.1693421 ,  1.20353069,\n",
       "        -0.22667009],\n",
       "       [ 0.86701872,  1.42663321,  1.24963122, -1.48659682, -0.02900074,\n",
       "        -0.91848186],\n",
       "       [-1.79841159, -0.67742387, -1.1978032 , -0.95977982, -1.26153217,\n",
       "        -1.26438775],\n",
       "       [-1.22313886, -0.67742387,  0.02591401,  0.12140252, -1.26153217,\n",
       "         1.50285933],\n",
       "       [ 1.35360357,  0.02392849,  0.02591401,  1.34296741, -1.26153217,\n",
       "         0.11923579],\n",
       "       [-1.30303785,  0.72528085,  0.02591401,  1.44925105, -1.26153217,\n",
       "         0.46514168],\n",
       "       [ 1.58451165,  0.02392849,  0.02591401, -0.66958867,  1.20353069,\n",
       "        -0.57257598],\n",
       "       [-0.84202068,  0.02392849,  0.02591401,  0.00594428, -0.02900074,\n",
       "         0.11923579],\n",
       "       [ 0.20146013, -0.67742387, -1.1978032 , -1.0013931 , -1.26153217,\n",
       "        -1.26438775],\n",
       "       [ 1.50381367,  1.42663321,  1.24963122, -0.67905414,  1.20353069,\n",
       "         0.46514168],\n",
       "       [-0.29950653, -1.37877623,  1.24963122, -0.96616653, -1.26153217,\n",
       "         1.50285933],\n",
       "       [ 0.33808741, -1.37877623, -1.1978032 ,  0.43767514, -1.26153217,\n",
       "         0.46514168],\n",
       "       [-1.18478734,  0.72528085, -1.1978032 ,  1.22291929, -0.02900074,\n",
       "         0.11923579],\n",
       "       [-0.57595704,  1.42663321, -1.1978032 , -0.96792626,  1.20353069,\n",
       "         1.50285933],\n",
       "       [-0.03264391,  0.72528085, -1.1978032 ,  0.16712387,  1.20353069,\n",
       "        -0.57257598],\n",
       "       [-1.03138128, -0.67742387, -1.1978032 , -1.36977605, -0.02900074,\n",
       "        -0.91848186],\n",
       "       [-0.24597421,  0.02392849, -1.1978032 , -0.85534338, -0.02900074,\n",
       "        -0.91848186],\n",
       "       [-0.65665502,  1.42663321, -1.1978032 ,  1.21729349, -1.26153217,\n",
       "        -1.26438775],\n",
       "       [-0.00467926, -0.67742387,  1.24963122,  1.32267336, -0.02900074,\n",
       "         0.81104756],\n",
       "       [-1.06653684,  1.42663321, -1.1978032 , -1.2300546 , -1.26153217,\n",
       "        -0.91848186],\n",
       "       [-1.23512371,  0.72528085,  0.02591401, -0.66910263,  1.20353069,\n",
       "         1.15695345],\n",
       "       [-1.08011967,  0.72528085, -1.1978032 ,  0.15182904, -0.02900074,\n",
       "        -0.91848186],\n",
       "       [ 0.90297327,  0.02392849, -1.1978032 , -1.54034952, -1.26153217,\n",
       "         0.81104756],\n",
       "       [ 0.90616923, -0.67742387, -1.1978032 ,  0.3233273 , -1.26153217,\n",
       "         1.50285933],\n",
       "       [ 0.73678337, -0.67742387,  1.24963122,  0.52224073, -0.02900074,\n",
       "         0.46514168],\n",
       "       [-0.89635199,  1.42663321,  1.24963122,  0.96717858, -0.02900074,\n",
       "         0.81104756],\n",
       "       [ 0.69044195,  0.72528085, -1.1978032 ,  1.11780222,  1.20353069,\n",
       "         1.50285933],\n",
       "       [ 0.01609448,  0.02392849,  1.24963122, -1.57851519,  1.20353069,\n",
       "        -1.61029363],\n",
       "       [-0.45770653,  0.72528085,  1.24963122, -0.31421247, -1.26153217,\n",
       "         0.11923579],\n",
       "       [-1.08091866,  0.72528085,  1.24963122,  0.5811171 , -1.26153217,\n",
       "        -0.57257598],\n",
       "       [ 0.91975205,  0.02392849,  1.24963122,  0.0125374 , -1.26153217,\n",
       "        -0.22667009],\n",
       "       [-1.31262573, -0.67742387, -1.1978032 , -0.1616339 , -1.26153217,\n",
       "        -0.22667009],\n",
       "       [ 1.75229953,  1.42663321, -1.1978032 ,  1.43767801,  1.20353069,\n",
       "        -0.22667009],\n",
       "       [ 0.78072781,  0.72528085,  1.24963122,  1.40956299,  1.20353069,\n",
       "         1.50285933],\n",
       "       [-0.21641158, -1.37877623,  0.02591401, -1.55949888,  1.20353069,\n",
       "        -0.22667009],\n",
       "       [-0.92511563,  0.02392849, -1.1978032 , -0.39849068,  1.20353069,\n",
       "        -1.26438775],\n",
       "       [ 0.41399145, -1.37877623, -1.1978032 , -1.62548128,  1.20353069,\n",
       "         0.81104756],\n",
       "       [ 0.65049246,  1.42663321,  1.24963122,  1.61507144, -0.02900074,\n",
       "         0.81104756],\n",
       "       [ 0.95011367, -0.67742387,  1.24963122,  0.54123726,  1.20353069,\n",
       "         0.11923579],\n",
       "       [-0.91872371, -1.37877623,  1.24963122,  1.39564951,  1.20353069,\n",
       "         1.50285933],\n",
       "       [ 0.77912983, -0.67742387, -1.1978032 ,  0.28246439, -1.26153217,\n",
       "         1.15695345],\n",
       "       [ 0.02088842,  0.72528085, -1.1978032 ,  0.28345136, -0.02900074,\n",
       "         0.11923579],\n",
       "       [ 1.31525205, -1.37877623, -1.1978032 ,  0.48885361, -1.26153217,\n",
       "        -0.91848186],\n",
       "       [ 0.52185508,  1.42663321,  1.24963122,  0.22903512,  1.20353069,\n",
       "         0.46514168],\n",
       "       [-1.11207926,  1.42663321, -1.1978032 ,  0.65853354,  1.20353069,\n",
       "         1.15695345],\n",
       "       [-0.24757219,  0.02392849,  0.02591401, -0.73444625,  1.20353069,\n",
       "         1.15695345],\n",
       "       [-0.11653785,  1.42663321,  1.24963122,  1.04801604, -0.02900074,\n",
       "        -0.22667009],\n",
       "       [ 1.47025609, -0.67742387,  0.02591401, -1.76022493,  1.20353069,\n",
       "         0.81104756],\n",
       "       [ 0.29414296, -1.37877623, -1.1978032 ,  1.68695263, -1.26153217,\n",
       "        -0.22667009],\n",
       "       [ 0.52105609,  1.42663321,  0.02591401, -0.91599332, -0.02900074,\n",
       "        -0.91848186],\n",
       "       [ 0.30932377, -0.67742387, -1.1978032 ,  0.06291601, -0.02900074,\n",
       "        -1.26438775],\n",
       "       [ 0.84944094,  0.72528085, -1.1978032 ,  0.37442286, -0.02900074,\n",
       "        -1.61029363],\n",
       "       [ 1.40473892, -0.67742387,  0.02591401,  0.99180389, -0.02900074,\n",
       "        -0.57257598],\n",
       "       [-0.50165098, -1.37877623,  0.02591401, -1.30751375, -0.02900074,\n",
       "         1.50285933],\n",
       "       [-1.69054795,  0.72528085,  1.24963122,  0.5505736 ,  1.20353069,\n",
       "        -0.57257598],\n",
       "       [ 1.06277125,  1.42663321,  1.24963122,  0.30076428,  1.20353069,\n",
       "         0.81104756],\n",
       "       [-1.12406411, -0.67742387,  0.02591401, -0.86110638, -1.26153217,\n",
       "        -0.91848186],\n",
       "       [ 0.01689347, -0.67742387,  0.02591401,  1.32204122,  1.20353069,\n",
       "        -0.91848186],\n",
       "       [-1.26069138, -0.67742387, -1.1978032 ,  0.40146313,  1.20353069,\n",
       "        -1.26438775],\n",
       "       [-0.78049845,  0.72528085,  1.24963122,  0.47747671, -1.26153217,\n",
       "        -0.57257598],\n",
       "       [-1.46123785,  1.42663321, -1.1978032 , -0.7726926 ,  1.20353069,\n",
       "        -1.61029363],\n",
       "       [ 1.74910357,  0.02392849,  0.02591401,  0.68019177, -1.26153217,\n",
       "        -1.26438775],\n",
       "       [ 0.8134864 , -1.37877623,  0.02591401, -0.56784409, -1.26153217,\n",
       "         0.11923579],\n",
       "       [-0.48726916,  0.02392849,  0.02591401, -1.58244979,  1.20353069,\n",
       "         0.81104756],\n",
       "       [ 0.4970864 , -1.37877623, -1.1978032 , -1.2045389 , -0.02900074,\n",
       "         0.81104756],\n",
       "       [-1.31582169, -1.37877623,  0.02591401,  0.00363882,  1.20353069,\n",
       "        -0.91848186],\n",
       "       [-0.43853078,  1.42663321, -1.1978032 ,  0.25697308, -1.26153217,\n",
       "        -1.26438775],\n",
       "       [-1.06334088, -0.67742387,  1.24963122,  0.76566627, -0.02900074,\n",
       "        -0.22667009],\n",
       "       [ 0.81588337,  0.02392849,  0.02591401, -0.32734538, -1.26153217,\n",
       "        -1.61029363],\n",
       "       [ 0.97887731,  0.72528085,  0.02591401,  1.14204371, -1.26153217,\n",
       "        -0.57257598]])"
      ]
     },
     "execution_count": 22,
     "metadata": {},
     "output_type": "execute_result"
    }
   ],
   "source": [
    "testing_data"
   ]
  },
  {
   "cell_type": "markdown",
   "id": "4ca234f2-b5c9-419a-af9d-fc4c9d71d935",
   "metadata": {},
   "source": [
    "## Linear Regression Model"
   ]
  },
  {
   "cell_type": "code",
   "execution_count": 25,
   "id": "2d24b107-b74c-4a4d-a88c-2ac181163b36",
   "metadata": {},
   "outputs": [
    {
     "name": "stdout",
     "output_type": "stream",
     "text": [
      "R^2 Score:  0.9924109209086748\n",
      "Mean Squared Error:  503748743.0858769\n"
     ]
    }
   ],
   "source": [
    "# Initialize the Linear Regression model\n",
    "linear_model = LinearRegression()\n",
    "\n",
    "# Train the Linear Regression model on the training data \n",
    "linear_model.fit(training_data, training_result)\n",
    "\n",
    "# Predict the labels for the testing data\n",
    "linear_pred = linear_model.predict(testing_data)\n",
    "\n",
    "# Calculate the R² score & Mean Squared Error (MSE) for the testing dataset\n",
    "linear_r2 = r2_score(testing_result, linear_pred)\n",
    "linear_mse = mean_squared_error(testing_result, linear_pred)\n",
    "\n",
    "# Print the performance metrics of the Linear Regression model\n",
    "print(\"R^2 Score: \", linear_r2)\n",
    "print(\"Mean Squared Error: \", linear_mse)"
   ]
  },
  {
   "cell_type": "code",
   "execution_count": 27,
   "id": "2904db1d-712c-4990-9e9c-8c0f7f824fc7",
   "metadata": {},
   "outputs": [
    {
     "data": {
      "text/plain": [
       "(150, 1)"
      ]
     },
     "execution_count": 27,
     "metadata": {},
     "output_type": "execute_result"
    }
   ],
   "source": [
    "testing_result.shape\n",
    "testing_result_matrix = testing_result.values.reshape(-1,1)\n",
    "testing_result_matrix.shape"
   ]
  },
  {
   "cell_type": "code",
   "execution_count": 29,
   "id": "ff1d1d2c-ac39-435f-9a3f-8386727d7d11",
   "metadata": {},
   "outputs": [
    {
     "data": {
      "text/html": [
       "<div>\n",
       "<style scoped>\n",
       "    .dataframe tbody tr th:only-of-type {\n",
       "        vertical-align: middle;\n",
       "    }\n",
       "\n",
       "    .dataframe tbody tr th {\n",
       "        vertical-align: top;\n",
       "    }\n",
       "\n",
       "    .dataframe thead th {\n",
       "        text-align: right;\n",
       "    }\n",
       "</style>\n",
       "<table border=\"1\" class=\"dataframe\">\n",
       "  <thead>\n",
       "    <tr style=\"text-align: right;\">\n",
       "      <th></th>\n",
       "      <th>Actual</th>\n",
       "      <th>Predicted</th>\n",
       "    </tr>\n",
       "  </thead>\n",
       "  <tbody>\n",
       "    <tr>\n",
       "      <th>0</th>\n",
       "      <td>3.817380e+05</td>\n",
       "      <td>3.788652e+05</td>\n",
       "    </tr>\n",
       "    <tr>\n",
       "      <th>1</th>\n",
       "      <td>8.243517e+05</td>\n",
       "      <td>8.065036e+05</td>\n",
       "    </tr>\n",
       "    <tr>\n",
       "      <th>2</th>\n",
       "      <td>1.043830e+06</td>\n",
       "      <td>1.037700e+06</td>\n",
       "    </tr>\n",
       "    <tr>\n",
       "      <th>3</th>\n",
       "      <td>5.729414e+05</td>\n",
       "      <td>5.981227e+05</td>\n",
       "    </tr>\n",
       "    <tr>\n",
       "      <th>4</th>\n",
       "      <td>2.368654e+05</td>\n",
       "      <td>1.983867e+05</td>\n",
       "    </tr>\n",
       "    <tr>\n",
       "      <th>5</th>\n",
       "      <td>8.161738e+05</td>\n",
       "      <td>8.274720e+05</td>\n",
       "    </tr>\n",
       "    <tr>\n",
       "      <th>6</th>\n",
       "      <td>9.151042e+05</td>\n",
       "      <td>9.484175e+05</td>\n",
       "    </tr>\n",
       "    <tr>\n",
       "      <th>7</th>\n",
       "      <td>2.392346e+05</td>\n",
       "      <td>2.105815e+05</td>\n",
       "    </tr>\n",
       "    <tr>\n",
       "      <th>8</th>\n",
       "      <td>9.653048e+05</td>\n",
       "      <td>9.965759e+05</td>\n",
       "    </tr>\n",
       "    <tr>\n",
       "      <th>9</th>\n",
       "      <td>4.488795e+05</td>\n",
       "      <td>4.369356e+05</td>\n",
       "    </tr>\n",
       "  </tbody>\n",
       "</table>\n",
       "</div>"
      ],
      "text/plain": [
       "         Actual     Predicted\n",
       "0  3.817380e+05  3.788652e+05\n",
       "1  8.243517e+05  8.065036e+05\n",
       "2  1.043830e+06  1.037700e+06\n",
       "3  5.729414e+05  5.981227e+05\n",
       "4  2.368654e+05  1.983867e+05\n",
       "5  8.161738e+05  8.274720e+05\n",
       "6  9.151042e+05  9.484175e+05\n",
       "7  2.392346e+05  2.105815e+05\n",
       "8  9.653048e+05  9.965759e+05\n",
       "9  4.488795e+05  4.369356e+05"
      ]
     },
     "execution_count": 29,
     "metadata": {},
     "output_type": "execute_result"
    }
   ],
   "source": [
    "comparison_df = pd.DataFrame({'Actual': testing_result_matrix.flatten(), 'Predicted': linear_pred.flatten()})\n",
    "\n",
    "comparison_df.head(10)"
   ]
  },
  {
   "cell_type": "code",
   "execution_count": 31,
   "id": "70500e52-1cf2-4b1c-b28d-d929df736d6c",
   "metadata": {},
   "outputs": [
    {
     "data": {
      "image/png": "[encoded data removed]",
      "text/plain": [
       "<Figure size 1000x500 with 1 Axes>"
      ]
     },
     "metadata": {},
     "output_type": "display_data"
    }
   ],
   "source": [
    "plt.figure(figsize = (10, 5))\n",
    "\n",
    "# Scatter plot of actual versus predicted values\n",
    "plt.scatter(testing_result, linear_pred)\n",
    "\n",
    "# Set the title and labels for the plot\n",
    "plt.title('Actual vs Prediction')\n",
    "plt.xlabel('Actual', fontsize=15)\n",
    "plt.ylabel('Predicted', fontsize=15)\n",
    "plt.show()"
   ]
  },
  {
   "cell_type": "markdown",
   "id": "b4a5eb3b-4a51-4f70-b1e1-bae7910d4cde",
   "metadata": {},
   "source": [
    "## K-Nearest Neighbors (KNN) Model"
   ]
  },
  {
   "cell_type": "code",
   "execution_count": 34,
   "id": "d7ac800f-dfd2-403f-a580-761de1853426",
   "metadata": {},
   "outputs": [
    {
     "data": {
      "image/png": "[encoded data removed]",
      "text/plain": [
       "<Figure size 640x480 with 1 Axes>"
      ]
     },
     "metadata": {},
     "output_type": "display_data"
    }
   ],
   "source": [
    "ks= [i for i in range(1,101)]\n",
    "k_values= list()\n",
    "for k in range(1,101):\n",
    "  knn= KNeighborsRegressor(n_neighbors=k)\n",
    "  knn.fit(training_data, training_result)\n",
    "  k_values.append(knn.score(testing_data, testing_result))\n",
    "\n",
    "# PLotting the graph\n",
    "plt.plot(ks, k_values)\n",
    "plt.xlabel(\"Values of K\")\n",
    "plt.ylabel(\"Validation Accuracy\")\n",
    "plt.title(\"Taxi Price\")\n",
    "plt.show()"
   ]
  },
  {
   "cell_type": "code",
   "execution_count": 48,
   "id": "afbd57bd-a089-4218-9a47-03b6de665994",
   "metadata": {},
   "outputs": [
    {
     "name": "stdout",
     "output_type": "stream",
     "text": [
      "R^2 Score:  0.9118359043320788\n",
      "Mean Squared Error:  5852166230.390775\n"
     ]
    }
   ],
   "source": [
    "# Initialize the K-Nearest Neighbors (KNN) Regressor with  neighbors\n",
    "knn_model = KNeighborsRegressor(n_neighbors=5)\n",
    "\n",
    "# Train the KNN model on the training data and labels\n",
    "knn_model.fit(training_data, training_result)\n",
    "\n",
    "# Predict the labels for the testing data\n",
    "knn_pred = knn_model.predict(testing_data)\n",
    "\n",
    "# Calculate the R² score & Mean Squared Error (MSE) for the testing dataset\n",
    "knn_r2 = r2_score(testing_result, knn_pred)\n",
    "knn_mse = mean_squared_error(testing_result, knn_pred)\n",
    "\n",
    "# Print the performance metrics of the KNN model\n",
    "print(\"R^2 Score: \", knn_r2)\n",
    "print(\"Mean Squared Error: \", knn_mse)"
   ]
  },
  {
   "cell_type": "markdown",
   "id": "ac3da517-ad5e-450a-99fe-203bf203abc5",
   "metadata": {},
   "source": [
    "## Decision Tree Model"
   ]
  },
  {
   "cell_type": "code",
   "execution_count": 51,
   "id": "016d5259-4620-40be-98f9-b10655c1597f",
   "metadata": {},
   "outputs": [
    {
     "name": "stdout",
     "output_type": "stream",
     "text": [
      "R^2 Score:  0.9867147226465373\n",
      "Mean Squared Error:  881851630.1937017\n"
     ]
    }
   ],
   "source": [
    "# Initialize the Decision Tree Regressor\n",
    "dt_model = DecisionTreeRegressor(random_state=42, max_depth=10, min_samples_leaf=5)\n",
    "\n",
    "# Train the model\n",
    "dt_model.fit(training_data, training_result)\n",
    "\n",
    "# Predict on the testing data\n",
    "dt_pred = dt_model.predict(testing_data)\n",
    "\n",
    "# Calculate the R² score & Mean Squared Error (MSE) for the testing dataset\n",
    "dt_r2 = r2_score(testing_result, dt_pred)\n",
    "dt_mse = mean_squared_error(testing_result, dt_pred)\n",
    "\n",
    "# Print the performance metrics of the KNN model\n",
    "print(\"R^2 Score: \", dt_r2)\n",
    "print(\"Mean Squared Error: \", dt_mse)"
   ]
  },
  {
   "cell_type": "markdown",
   "id": "1a19fdf8-e7c6-4719-9005-50d4a6b1c799",
   "metadata": {},
   "source": [
    "## Random Forest"
   ]
  },
  {
   "cell_type": "code",
   "execution_count": 54,
   "id": "255e8e77-f1f4-4142-93ea-b33627589af6",
   "metadata": {},
   "outputs": [
    {
     "name": "stdout",
     "output_type": "stream",
     "text": [
      "R^2 Score:  0.9898287554490548\n",
      "Mean Squared Error:  675148011.5702658\n"
     ]
    }
   ],
   "source": [
    "# Initialize and train the Random Forest model\n",
    "rf_model = RandomForestRegressor(n_estimators=100, random_state=42)\n",
    "rf_model.fit(training_data, training_result)\n",
    "\n",
    "# Make predictions\n",
    "rf_pred = rf_model.predict(testing_data)\n",
    "\n",
    "# Calculate the R² score & Mean Squared Error (MSE) for the testing dataset\n",
    "rf_r2 = r2_score(testing_result, rf_pred)\n",
    "rf_mse = mean_squared_error(testing_result, rf_pred)\n",
    "\n",
    "# Print the performance metrics of the Rnadom Forest model\n",
    "print(\"R^2 Score: \", rf_r2)\n",
    "print(\"Mean Squared Error: \", rf_mse)"
   ]
  },
  {
   "cell_type": "markdown",
   "id": "737ba521-71d4-4b9f-9531-1bf7a01a60fa",
   "metadata": {},
   "source": [
    "## Gradient Boosting Regressor"
   ]
  },
  {
   "cell_type": "code",
   "execution_count": 57,
   "id": "d0d76334-752b-4313-8814-7b7ee7a56b50",
   "metadata": {},
   "outputs": [
    {
     "name": "stdout",
     "output_type": "stream",
     "text": [
      "R^2 Score:  0.9914417748050244\n",
      "Mean Squared Error:  568078831.84968\n"
     ]
    }
   ],
   "source": [
    "# Initialize and train the Gradient Boosting Regressor model\n",
    "gb_model = GradientBoostingRegressor(n_estimators=100, learning_rate=0.1, max_depth=3, random_state=42)\n",
    "gb_model.fit(training_data, training_result)\n",
    "\n",
    "# Make predictions\n",
    "gb_pred = gb_model.predict(testing_data)\n",
    "\n",
    "# Calculate the R² score & Mean Squared Error (MSE) for the testing dataset\n",
    "gb_r2 = r2_score(testing_result, gb_pred)\n",
    "gb_mse = mean_squared_error(testing_result, gb_pred)\n",
    "\n",
    "# Print the performance metrics of the Rnadom Forest model\n",
    "print(\"R^2 Score: \", gb_r2)\n",
    "print(\"Mean Squared Error: \", gb_mse)"
   ]
  },
  {
   "cell_type": "markdown",
   "id": "33928f01-bdf8-4237-8eb2-b5e9c150c9c5",
   "metadata": {},
   "source": [
    "## Adaboost Regressor"
   ]
  },
  {
   "cell_type": "code",
   "execution_count": 64,
   "id": "d73163f9-6abe-4734-afbf-a474661340d4",
   "metadata": {},
   "outputs": [
    {
     "name": "stdout",
     "output_type": "stream",
     "text": [
      "R^2 Score:  0.9803664422527786\n",
      "Mean Squared Error:  1303238498.1693063\n"
     ]
    }
   ],
   "source": [
    "# Initialize and train the Adaboost Regressor model\n",
    "adb_model = AdaBoostRegressor(n_estimators=100, learning_rate=0.1, random_state=42)\n",
    "adb_model.fit(training_data, training_result)\n",
    "\n",
    "# Make predictions\n",
    "adb_pred = adb_model.predict(testing_data)\n",
    "\n",
    "# Calculate the R² score & Mean Squared Error (MSE) for the testing dataset\n",
    "adb_r2 = r2_score(testing_result, adb_pred)\n",
    "adb_mse = mean_squared_error(testing_result, adb_pred)\n",
    "\n",
    "# Print the performance metrics of the Rnadom Forest model\n",
    "print(\"R^2 Score: \", adb_r2)\n",
    "print(\"Mean Squared Error: \", adb_mse)"
   ]
  },
  {
   "cell_type": "markdown",
   "id": "fd344238-1578-4c40-b70f-eb9da6710421",
   "metadata": {},
   "source": [
    "## XGBoost Regressor"
   ]
  },
  {
   "cell_type": "code",
   "execution_count": 67,
   "id": "326e5ca8-5031-46eb-bfea-010e8afab4b2",
   "metadata": {},
   "outputs": [
    {
     "name": "stdout",
     "output_type": "stream",
     "text": [
      "R^2 Score:  0.9908592508370612\n",
      "Mean Squared Error:  606745673.1287824\n"
     ]
    }
   ],
   "source": [
    "# Initialize and train the XGBoost Regressor model\n",
    "xgb_model = XGBRegressor(n_estimators=100, learning_rate=0.1, max_depth=3, random_state=42)\n",
    "xgb_model.fit(training_data, training_result)\n",
    "\n",
    "# Make predictions\n",
    "xgb_pred = xgb_model.predict(testing_data)\n",
    "\n",
    "# Calculate the R² score & Mean Squared Error (MSE) for the testing dataset\n",
    "xgb_r2 = r2_score(testing_result, xgb_pred)\n",
    "xgb_mse = mean_squared_error(testing_result, xgb_pred)\n",
    "\n",
    "# Print the performance metrics of the Rnadom Forest model\n",
    "print(\"R^2 Score: \", xgb_r2)\n",
    "print(\"Mean Squared Error: \", xgb_mse)"
   ]
  }
 ],
 "metadata": {
  "kernelspec": {
   "display_name": "Python [conda env:base] *",
   "language": "python",
   "name": "conda-base-py"
  },
  "language_info": {
   "codemirror_mode": {
    "name": "ipython",
    "version": 3
   },
   "file_extension": ".py",
   "mimetype": "text/x-python",
   "name": "python",
   "nbconvert_exporter": "python",
   "pygments_lexer": "ipython3",
   "version": "3.12.4"
  }
 },
 "nbformat": 4,
 "nbformat_minor": 5
}
